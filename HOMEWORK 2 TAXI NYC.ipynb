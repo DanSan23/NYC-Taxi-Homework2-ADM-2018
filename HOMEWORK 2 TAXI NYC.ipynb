{
 "cells": [
  {
   "cell_type": "markdown",
   "metadata": {},
   "source": [
    "# NYC Taxi homework2"
   ]
  },
  {
   "cell_type": "markdown",
   "metadata": {},
   "source": [
    "### Data cleaning"
   ]
  },
  {
   "cell_type": "markdown",
   "metadata": {},
   "source": [
    "#### First, we imported all the libraries we will use to answer the question"
   ]
  },
  {
   "cell_type": "code",
   "execution_count": 2,
   "metadata": {},
   "outputs": [],
   "source": [
    "import pandas as pd\n",
    "import matplotlib.pyplot as plt\n",
    "import seaborn as sns\n",
    "import numpy as np\n",
    "from datetime import datetime\n",
    "from scipy import stats\n",
    "#import folium\n",
    "import json\n",
    "%matplotlib inline"
   ]
  },
  {
   "cell_type": "markdown",
   "metadata": {},
   "source": [
    "#### before start the analysis we clean the data with the following code. For cleaning the data , we extract the year,month,hour from the  tpep_pickup_datetime and tpep_dropoff_datetime columns thereafter we create a new columns of mentioned extracted values.The year which were not 2018 are dropped, the months which were not belong to corresponding month are allocated in error dataframe."
   ]
  },
  {
   "cell_type": "code",
   "execution_count": null,
   "metadata": {},
   "outputs": [],
   "source": [
    "\n",
    "error=pd.DataFrame()\n",
    "for i in range(1,7):\n",
    "    d=pd.read_csv(\"yellow_tripdata_2018-0\"+str(i)+\".csv\")\n",
    "    d['yearS'] = pd.to_datetime(d[\"tpep_pickup_datetime\"],format='%Y-%m-%d %H:%M:%S').dt.year\n",
    "    d['yearE'] = pd.to_datetime(d[\"tpep_dropoff_datetime\"],format='%Y-%m-%d %H:%M:%S').dt.year\n",
    "    d['hourS'] = pd.to_datetime(d[\"tpep_pickup_datetime\"],format='%Y-%m-%d %H:%M:%S').dt.hour\n",
    "    d['weekdayS'] = pd.to_datetime(d[\"tpep_pickup_datetime\"],format='%Y-%m-%d %H:%M:%S').dt.weekday\n",
    "    d['monthS'] = pd.to_datetime(d[\"tpep_pickup_datetime\"],format='%Y-%m-%d %H:%M:%S').dt.month\n",
    "    d['hourE'] = pd.to_datetime(d[\"tpep_dropoff_datetime\"],format='%Y-%m-%d %H:%M:%S').dt.hour\n",
    "    d['weekdayE'] = pd.to_datetime(d[\"tpep_dropoff_datetime\"],format='%Y-%m-%d %H:%M:%S').dt.weekday\n",
    "    d['monthE'] = pd.to_datetime(d[\"tpep_dropoff_datetime\"],format='%Y-%m-%d %H:%M:%S').dt.month    \n",
    "    d=d.loc[(d.yearS==2018)&(d.yearE==2018)&(d.monthS<7)&(d.monthE<7)&(d.trip_distance>0.2)]\n",
    "    error = error.append(d[d['monthS']!=i])\n",
    "    d.reset_index(drop=True)\n",
    "    d.to_csv(\"C:/Users/Daniele/Desktop/DATA cleaning/Filtered\"+str(i)+\".csv\")\n",
    "    del d"
   ]
  },
  {
   "cell_type": "markdown",
   "metadata": {},
   "source": [
    "#### In the following script the months in the error dataframe are concatenated to their corresponding dataframe."
   ]
  },
  {
   "cell_type": "code",
   "execution_count": null,
   "metadata": {},
   "outputs": [],
   "source": [
    "for i in range(1,7):\n",
    "    string_new = \"C:/Users/Daniele/Desktop/DATA cleaning/Filtered\"+str(i)+\".csv\"\n",
    "    df = pd.read_csv(string_new)\n",
    "    new = error.loc[error.monthS==i]\n",
    "    df = pd.concat([df,new])\n",
    "    df.reset_index(drop=True)\n",
    "    df.to_csv(\"C:/Users/Daniele/Desktop/DATA cleaning1/Filtered\"+str(i)+\".csv\")\n",
    "    del df\n",
    "    del new"
   ]
  },
  {
   "cell_type": "markdown",
   "metadata": {},
   "source": [
    "## RQ1 In what period of the year Taxis are used more?\n",
    "#### Create a plot that, for each month, shows the average number of trips recorded each day. Due to the differences among New York zones, we want to visualize the same information for each boroughs. Do you notice any difference among them? Provide comments and plausible explanations about what you observe (e.g.: what is the month with the highest daily average?)"
   ]
  },
  {
   "cell_type": "markdown",
   "metadata": {},
   "source": [
    "    "
   ]
  },
  {
   "cell_type": "markdown",
   "metadata": {},
   "source": [
    "    "
   ]
  },
  {
   "cell_type": "markdown",
   "metadata": {},
   "source": [
    "    "
   ]
  },
  {
   "cell_type": "markdown",
   "metadata": {},
   "source": [
    "    "
   ]
  },
  {
   "cell_type": "markdown",
   "metadata": {},
   "source": [
    "##### We started the work by importing all the datasets for each month with Pandas, summed the number of daily trips for each month dividing by the number of days of the month , obtaining the desired average. After this operation we plot the result with seaborn. The first Graph show the average trips per Day for each month."
   ]
  },
  {
   "cell_type": "code",
   "execution_count": 3,
   "metadata": {
    "scrolled": true
   },
   "outputs": [
    {
     "data": {
      "text/plain": [
       "[Text(0,0.5,'Average Trips per Day'), Text(0.5,0,'Month')]"
      ]
     },
     "execution_count": 3,
     "metadata": {},
     "output_type": "execute_result"
    },
    {
     "data": {
      "image/png": "[encoded data removed]",
      "text/plain": [
       "<matplotlib.figure.Figure at 0x22faf912a20>"
      ]
     },
     "metadata": {},
     "output_type": "display_data"
    }
   ],
   "source": [
    "#list of months\n",
    "months = 'January February March April May June'.split()\n",
    "#create a new DataFrame\n",
    "df_new = pd.Series(index = months)\n",
    "for i in range(6):\n",
    "    string = \"Filtered\"+str(i+1)+\".csv\"\n",
    "    #read csv and take only tpep_pickup_datetime with usecols\n",
    "    df = pd.read_csv(string,usecols=[\"tpep_pickup_datetime\"])\n",
    "    #using datetime in order to convert argument to datetime.\n",
    "    df['day'] = pd.to_datetime(df[\"tpep_pickup_datetime\"],format='%Y-%m-%d %H:%M:%S').dt.day\n",
    "    #delete missing value\n",
    "    df.dropna(inplace=True)\n",
    "    #computation of average daily trip for every month\n",
    "    df_new[months[i]] = len(df['day'])/(len(df['day'].unique()))\n",
    "    #free memory\n",
    "    del df\n",
    "ax = sns.barplot(x=df_new.index, y=df_new.values)\n",
    "ax.set(xlabel='Month', ylabel='Average Trips per Day')"
   ]
  },
  {
   "cell_type": "markdown",
   "metadata": {},
   "source": [
    "#### Considering the graph, March is the month with the highest trip but the difference between the months is  not significant."
   ]
  },
  {
   "cell_type": "markdown",
   "metadata": {},
   "source": [
    "#### after this, we plot the same graph for every Borough. "
   ]
  },
  {
   "cell_type": "code",
   "execution_count": 6,
   "metadata": {
    "scrolled": true
   },
   "outputs": [
    {
     "data": {
      "text/plain": [
       "<matplotlib.axes._subplots.AxesSubplot at 0x17e37a152e8>"
      ]
     },
     "execution_count": 6,
     "metadata": {},
     "output_type": "execute_result"
    },
    {
     "data": {
      "image/png": "[encoded data removed]",
      "text/plain": [
       "<matplotlib.figure.Figure at 0x17e014b0f28>"
      ]
     },
     "metadata": {},
     "output_type": "display_data"
    }
   ],
   "source": [
    "#create a list\n",
    "dataframe=[]\n",
    "#read csv file of zone\n",
    "zones = pd.read_csv(\"taxi_zone_lookup.csv\")\n",
    "for i in range(1,7):\n",
    "    #read csv file of taxi and take only tpep_pickup_datetime,monthS and DOLocationID with usecols\n",
    "    df = pd.read_csv(\"Filtered\"+str(i)+\".csv\",usecols=[\"tpep_pickup_datetime\",\"monthS\",\"DOLocationID\"])\n",
    "    #select the specific month\n",
    "    df=df.loc[df.monthS==i]\n",
    "    #merge Data Frame of taxi with DataFrame of zone and take only Borough,tpep_pickup_datetime and monthS column\n",
    "    df = pd.merge(df,zones[['LocationID','Borough']], left_on=['DOLocationID'], right_on=['LocationID'])[['Borough',\"tpep_pickup_datetime\",\"monthS\"]]\n",
    "    #using datetime in order to convert argument to datetime\n",
    "    df['day'] = pd.to_datetime(df[\"tpep_pickup_datetime\"],format='%Y-%m-%d %H:%M:%S').dt.day\n",
    "    #computation of daily trip average for every month in every Borough, \n",
    "    df2 =(df.groupby(['monthS','Borough']).count()['day']//len((df[\"day\"].unique()))\n",
    "    dataframe.append(df2)\n",
    "d=pd.concat(dataframe)\n",
    "#rename of index, with inplace=True the data is renamed in place\n",
    "d.rename(index={1:'January',2:'February',3:'March',4:'April',5:'May',6:'June'},inplace=True)\n",
    "  \"\"\"We have a multi index series(the output of groupby), ustack function on level 0 convert the 0 level of index as a columns \n",
    "         and the level -1 as an index\"\"\"\n",
    "d.unstack(level=0).plot.bar(width=1.0, figsize=(8, 8))"
   ]
  },
  {
   "cell_type": "markdown",
   "metadata": {},
   "source": [
    "####  The result shows tht Manhattan is the Borough wih the highest average daily trip in all the months examined; we expected that because Manhattam is the most commercial and turistic borough in comparision to others."
   ]
  },
  {
   "cell_type": "markdown",
   "metadata": {},
   "source": [
    "# RQ2 What are the time slots with more passengers?\n",
    "#### Set your own time slots and discover which are those when Taxis drive the highest number of passengers overall New York and repeat the analysis for each borough. Provide the results through a visualization and comment them"
   ]
  },
  {
   "cell_type": "markdown",
   "metadata": {},
   "source": [
    "  "
   ]
  },
  {
   "cell_type": "markdown",
   "metadata": {},
   "source": [
    "   "
   ]
  },
  {
   "cell_type": "markdown",
   "metadata": {},
   "source": [
    "#### We have choose to divide the day in 4 time slots in order to discover the time slot with highest passengers. We have created a list with 4 time slots,initialized a new data frame, read the data and take only our desired columns(dropna function is used to remove the missing values).Finally we have created a new column called df_total['time_slots'] in order to assign each hour in his related time slot; to do the lambda function is applied."
   ]
  },
  {
   "cell_type": "code",
   "execution_count": 27,
   "metadata": {},
   "outputs": [],
   "source": [
    "#set the time slots\n",
    "time_slots = ['1.[1-6 AM]','2.[7-12 AM]','3.[13-18 PM]','4.[19-00 PM]']\n",
    "#creation of new Dataframe\n",
    "df_total = pd.DataFrame([])\n",
    "for i in range(1,7):\n",
    "    string = \"Filtered\"+str(i)+\".csv\"\n",
    "    #import the dataset with required columns\n",
    "    df = pd.read_csv(string,usecols=['hourS','DOLocationID','passenger_count'])\n",
    "    #delete the missing value\n",
    "    df.dropna(inplace=True)\n",
    "    #add to the new Dataframe\n",
    "    df_total = df_total.append(df,ignore_index=True)\n",
    "    #free memory\n",
    "    del df\n",
    "#merge dt_total with zone.csv and take only required colums\n",
    "df_total = pd.merge(df_total,zones[['LocationID','Borough']], left_on=['DOLocationID'], right_on=['LocationID'])[['Borough','hourS','passenger_count']]\n",
    "df_total['time_slots'] = df_total.hourS.apply(lambda x:time_slots[abs((x-1)//6)])"
   ]
  },
  {
   "cell_type": "markdown",
   "metadata": {},
   "source": [
    "#### Below, we plot the highest number of passengers for every time slots overall Newyork"
   ]
  },
  {
   "cell_type": "code",
   "execution_count": 23,
   "metadata": {
    "scrolled": false
   },
   "outputs": [
    {
     "data": {
      "text/plain": [
       "Text(0.5,1,'Overall New York')"
      ]
     },
     "execution_count": 23,
     "metadata": {},
     "output_type": "execute_result"
    },
    {
     "data": {
      "image/png": "[encoded data removed]",
      "text/plain": [
       "<matplotlib.figure.Figure at 0x17e316beeb8>"
      ]
     },
     "metadata": {},
     "output_type": "display_data"
    }
   ],
   "source": [
    "#gropby and sum are used in order to have the total number of passengers for every time slot\n",
    "df_total=df_total.groupby('time_slots',as_index=False).sum()\n",
    "#sort the value\n",
    "df_total.sort_values(by='time_slots',inplace=True)\n",
    "#plot\n",
    "sns.set_style(\"whitegrid\")\n",
    "fig = sns.barplot(x=df_total.time_slots,y=df_total.passenger_count)\n",
    "fig.set_title('Overall New York')"
   ]
  },
  {
   "cell_type": "markdown",
   "metadata": {},
   "source": [
    "#### The plot shows us that there are more passenger from 3rd timeslot, which correspond to the start of evening. We think we have this result because our third time slot corresponds to the end of the working day, so more people used the taxi."
   ]
  },
  {
   "cell_type": "markdown",
   "metadata": {},
   "source": [
    "#### Now , in order to show the situation for every Borough we used subplot to have all plots in one figure. We have taken every single borough, used groupby on time_slot and sum the number of passengers in each time slot; finally draw the plots."
   ]
  },
  {
   "cell_type": "code",
   "execution_count": 13,
   "metadata": {
    "scrolled": true
   },
   "outputs": [
    {
     "data": {
      "image/png": "[encoded data removed]",
      "text/plain": [
       "<matplotlib.figure.Figure at 0x22f9d71bcf8>"
      ]
     },
     "metadata": {},
     "output_type": "display_data"
    }
   ],
   "source": [
    "num_plots = 7\n",
    "fig, axes = plt.subplots(num_plots,1,figsize=(30,30))\n",
    "#a list of boroughs is created\n",
    "Boroughs = df_total.Borough.unique()\n",
    "#sorting boroughs\n",
    "Boroughs.sort()\n",
    "for Borough in Boroughs:\n",
    "    #chose the data frame with corresponding borough\n",
    "    df = df_total[df_total['Borough']==Borough]\n",
    "    #use groupby and .sum() in order to take the of passengers in each time slot\n",
    "    df=df.groupby('time_slots',as_index=False).sum()\n",
    "    #sort values\n",
    "    df.sort_values(by='time_slots',inplace=True)\n",
    "    #set the axes for the current subplot\n",
    "    ax_curr = axes[np.where(Boroughs == Borough)[0][0]]\n",
    "    sns.set_style(\"whitegrid\")\n",
    "    fg = sns.barplot(x=df.time_slots,y=df.passenger_count,ax=ax_curr)\n",
    "    ax_curr.set_title(Borough)\n",
    "    del df\n",
    "fig.tight_layout()"
   ]
  },
  {
   "cell_type": "markdown",
   "metadata": {},
   "source": [
    "#### Regarding the plot there are slightly difference between number of passenger for each borough in specific time slot and the overall newyork situation"
   ]
  },
  {
   "cell_type": "markdown",
   "metadata": {},
   "source": [
    "   "
   ]
  },
  {
   "cell_type": "markdown",
   "metadata": {},
   "source": [
    "    "
   ]
  },
  {
   "cell_type": "markdown",
   "metadata": {},
   "source": [
    "   "
   ]
  },
  {
   "cell_type": "markdown",
   "metadata": {},
   "source": [
    "    "
   ]
  },
  {
   "cell_type": "markdown",
   "metadata": {},
   "source": [
    "# RQ3 Do the all trips last the same? \n",
    "#### Let's put our attention on the distribution of trip's duration. Provide a plot for it and comment what you see. Run this analysis for NYC and for each borough (and obviously comment the results!)."
   ]
  },
  {
   "cell_type": "markdown",
   "metadata": {},
   "source": [
    "#### The goal of this question is to investigate how our trip duration is distributed. In the first phase the duration is calculated based on tpep_pickup_datetime and tpep_dropoff_datetime; in order to do this, to_datetime() function is used."
   ]
  },
  {
   "cell_type": "code",
   "execution_count": 2,
   "metadata": {},
   "outputs": [],
   "source": [
    "df=[]\n",
    "for i in range(1,7):\n",
    "    #import the dataset\n",
    "    d = pd.read_csv(\"Filtered\"+str(i)+\".csv\",usecols=['tpep_pickup_datetime','tpep_dropoff_datetime','PULocationID','DOLocationID'])\n",
    "    #create column called start_time where to_datetime is used to convert argument in tpep_pickup_datetime to datetime format\n",
    "    d['start-time'] = pd.to_datetime(d['tpep_pickup_datetime'])\n",
    "    #create column called End_time where to_datetime is used to convert argument in tpep_dropoff_datetime to datetime format\n",
    "    d['End-time'] = pd.to_datetime(d['tpep_dropoff_datetime'])\n",
    "    #compute difference between tpep_dropoff_datetime and tpep_pickup_datetime\n",
    "    d[\"duration\"]=d[\"End-time\"]-d[\"start-time\"]\n",
    "    #convert the duration to minute and we assign into new coloum\n",
    "    d[\"durationm\"]=d[\"duration\"]/pd.Timedelta('1 minute')\n",
    "    d[\"durations\"]=d[\"duration\"]/pd.Timedelta('1 second')\n",
    "    d['years'] = pd.to_datetime(d[\"tpep_pickup_datetime\"],format='%Y-%m-%d %H:%M:%S').dt.year\n",
    "    d['yeare'] = pd.to_datetime(d[\"tpep_dropoff_datetime\"],format='%Y-%m-%d %H:%M:%S').dt.year\n",
    "    #append to list df in order to concatenate in next sesssion\n",
    "    df.append(d)\n",
    "    del d   "
   ]
  },
  {
   "cell_type": "markdown",
   "metadata": {},
   "source": [
    "#### for each dataframe in df (which is a list) we filter duration and unknown zone. The duration is filtered because we found out that the duration less than 5000 seconds follow the chi-square distribution. "
   ]
  },
  {
   "cell_type": "code",
   "execution_count": 3,
   "metadata": {},
   "outputs": [],
   "source": [
    "dft=[]\n",
    "for d in df:\n",
    "    #PULocationID which are corresponded to unknown zones are filtered\n",
    "    dft.append(d.loc[(d.durations>0)&(d.durations<5000)&(d.PULocationID!=264)&(d.PULocationID!=265)])\n",
    "del df    "
   ]
  },
  {
   "cell_type": "code",
   "execution_count": 7,
   "metadata": {},
   "outputs": [
    {
     "ename": "MemoryError",
     "evalue": "",
     "output_type": "error",
     "traceback": [
      "\u001b[1;31m---------------------------------------------------------------------------\u001b[0m",
      "\u001b[1;31mMemoryError\u001b[0m                               Traceback (most recent call last)",
      "\u001b[1;32m<ipython-input-7-4b8cb45f2026>\u001b[0m in \u001b[0;36m<module>\u001b[1;34m()\u001b[0m\n\u001b[0;32m      1\u001b[0m \u001b[1;31m#concatenate the list of datasets in dft list into DF dataframe\u001b[0m\u001b[1;33m\u001b[0m\u001b[1;33m\u001b[0m\u001b[0m\n\u001b[1;32m----> 2\u001b[1;33m \u001b[0mDF\u001b[0m\u001b[1;33m=\u001b[0m\u001b[0mpd\u001b[0m\u001b[1;33m.\u001b[0m\u001b[0mconcat\u001b[0m\u001b[1;33m(\u001b[0m\u001b[0mdft\u001b[0m\u001b[1;33m)\u001b[0m\u001b[1;33m\u001b[0m\u001b[0m\n\u001b[0m\u001b[0;32m      3\u001b[0m \u001b[0mDF\u001b[0m\u001b[1;33m=\u001b[0m\u001b[0mDF\u001b[0m\u001b[1;33m.\u001b[0m\u001b[0mreset_index\u001b[0m\u001b[1;33m(\u001b[0m\u001b[0mdrop\u001b[0m\u001b[1;33m=\u001b[0m\u001b[1;32mTrue\u001b[0m\u001b[1;33m)\u001b[0m\u001b[1;33m\u001b[0m\u001b[0m\n\u001b[0;32m      4\u001b[0m \u001b[0msns\u001b[0m\u001b[1;33m.\u001b[0m\u001b[0mdistplot\u001b[0m\u001b[1;33m(\u001b[0m\u001b[0mDF\u001b[0m\u001b[1;33m[\u001b[0m\u001b[1;34m\"durations\"\u001b[0m\u001b[1;33m]\u001b[0m\u001b[1;33m)\u001b[0m\u001b[1;33m\u001b[0m\u001b[0m\n",
      "\u001b[1;32m~\\Anaconda3\\lib\\site-packages\\pandas\\core\\reshape\\concat.py\u001b[0m in \u001b[0;36mconcat\u001b[1;34m(objs, axis, join, join_axes, ignore_index, keys, levels, names, verify_integrity, sort, copy)\u001b[0m\n\u001b[0;32m    224\u001b[0m                        \u001b[0mverify_integrity\u001b[0m\u001b[1;33m=\u001b[0m\u001b[0mverify_integrity\u001b[0m\u001b[1;33m,\u001b[0m\u001b[1;33m\u001b[0m\u001b[0m\n\u001b[0;32m    225\u001b[0m                        copy=copy, sort=sort)\n\u001b[1;32m--> 226\u001b[1;33m     \u001b[1;32mreturn\u001b[0m \u001b[0mop\u001b[0m\u001b[1;33m.\u001b[0m\u001b[0mget_result\u001b[0m\u001b[1;33m(\u001b[0m\u001b[1;33m)\u001b[0m\u001b[1;33m\u001b[0m\u001b[0m\n\u001b[0m\u001b[0;32m    227\u001b[0m \u001b[1;33m\u001b[0m\u001b[0m\n\u001b[0;32m    228\u001b[0m \u001b[1;33m\u001b[0m\u001b[0m\n",
      "\u001b[1;32m~\\Anaconda3\\lib\\site-packages\\pandas\\core\\reshape\\concat.py\u001b[0m in \u001b[0;36mget_result\u001b[1;34m(self)\u001b[0m\n\u001b[0;32m    421\u001b[0m             new_data = concatenate_block_managers(\n\u001b[0;32m    422\u001b[0m                 \u001b[0mmgrs_indexers\u001b[0m\u001b[1;33m,\u001b[0m \u001b[0mself\u001b[0m\u001b[1;33m.\u001b[0m\u001b[0mnew_axes\u001b[0m\u001b[1;33m,\u001b[0m \u001b[0mconcat_axis\u001b[0m\u001b[1;33m=\u001b[0m\u001b[0mself\u001b[0m\u001b[1;33m.\u001b[0m\u001b[0maxis\u001b[0m\u001b[1;33m,\u001b[0m\u001b[1;33m\u001b[0m\u001b[0m\n\u001b[1;32m--> 423\u001b[1;33m                 copy=self.copy)\n\u001b[0m\u001b[0;32m    424\u001b[0m             \u001b[1;32mif\u001b[0m \u001b[1;32mnot\u001b[0m \u001b[0mself\u001b[0m\u001b[1;33m.\u001b[0m\u001b[0mcopy\u001b[0m\u001b[1;33m:\u001b[0m\u001b[1;33m\u001b[0m\u001b[0m\n\u001b[0;32m    425\u001b[0m                 \u001b[0mnew_data\u001b[0m\u001b[1;33m.\u001b[0m\u001b[0m_consolidate_inplace\u001b[0m\u001b[1;33m(\u001b[0m\u001b[1;33m)\u001b[0m\u001b[1;33m\u001b[0m\u001b[0m\n",
      "\u001b[1;32m~\\Anaconda3\\lib\\site-packages\\pandas\\core\\internals.py\u001b[0m in \u001b[0;36mconcatenate_block_managers\u001b[1;34m(mgrs_indexers, axes, concat_axis, copy)\u001b[0m\n\u001b[0;32m   5419\u001b[0m         \u001b[1;32melse\u001b[0m\u001b[1;33m:\u001b[0m\u001b[1;33m\u001b[0m\u001b[0m\n\u001b[0;32m   5420\u001b[0m             b = make_block(\n\u001b[1;32m-> 5421\u001b[1;33m                 \u001b[0mconcatenate_join_units\u001b[0m\u001b[1;33m(\u001b[0m\u001b[0mjoin_units\u001b[0m\u001b[1;33m,\u001b[0m \u001b[0mconcat_axis\u001b[0m\u001b[1;33m,\u001b[0m \u001b[0mcopy\u001b[0m\u001b[1;33m=\u001b[0m\u001b[0mcopy\u001b[0m\u001b[1;33m)\u001b[0m\u001b[1;33m,\u001b[0m\u001b[1;33m\u001b[0m\u001b[0m\n\u001b[0m\u001b[0;32m   5422\u001b[0m                 placement=placement)\n\u001b[0;32m   5423\u001b[0m         \u001b[0mblocks\u001b[0m\u001b[1;33m.\u001b[0m\u001b[0mappend\u001b[0m\u001b[1;33m(\u001b[0m\u001b[0mb\u001b[0m\u001b[1;33m)\u001b[0m\u001b[1;33m\u001b[0m\u001b[0m\n",
      "\u001b[1;32m~\\Anaconda3\\lib\\site-packages\\pandas\\core\\internals.py\u001b[0m in \u001b[0;36mconcatenate_join_units\u001b[1;34m(join_units, concat_axis, copy)\u001b[0m\n\u001b[0;32m   5563\u001b[0m     to_concat = [ju.get_reindexed_values(empty_dtype=empty_dtype,\n\u001b[0;32m   5564\u001b[0m                                          upcasted_na=upcasted_na)\n\u001b[1;32m-> 5565\u001b[1;33m                  for ju in join_units]\n\u001b[0m\u001b[0;32m   5566\u001b[0m \u001b[1;33m\u001b[0m\u001b[0m\n\u001b[0;32m   5567\u001b[0m     \u001b[1;32mif\u001b[0m \u001b[0mlen\u001b[0m\u001b[1;33m(\u001b[0m\u001b[0mto_concat\u001b[0m\u001b[1;33m)\u001b[0m \u001b[1;33m==\u001b[0m \u001b[1;36m1\u001b[0m\u001b[1;33m:\u001b[0m\u001b[1;33m\u001b[0m\u001b[0m\n",
      "\u001b[1;32m~\\Anaconda3\\lib\\site-packages\\pandas\\core\\internals.py\u001b[0m in \u001b[0;36m<listcomp>\u001b[1;34m(.0)\u001b[0m\n\u001b[0;32m   5563\u001b[0m     to_concat = [ju.get_reindexed_values(empty_dtype=empty_dtype,\n\u001b[0;32m   5564\u001b[0m                                          upcasted_na=upcasted_na)\n\u001b[1;32m-> 5565\u001b[1;33m                  for ju in join_units]\n\u001b[0m\u001b[0;32m   5566\u001b[0m \u001b[1;33m\u001b[0m\u001b[0m\n\u001b[0;32m   5567\u001b[0m     \u001b[1;32mif\u001b[0m \u001b[0mlen\u001b[0m\u001b[1;33m(\u001b[0m\u001b[0mto_concat\u001b[0m\u001b[1;33m)\u001b[0m \u001b[1;33m==\u001b[0m \u001b[1;36m1\u001b[0m\u001b[1;33m:\u001b[0m\u001b[1;33m\u001b[0m\u001b[0m\n",
      "\u001b[1;32m~\\Anaconda3\\lib\\site-packages\\pandas\\core\\internals.py\u001b[0m in \u001b[0;36mget_reindexed_values\u001b[1;34m(self, empty_dtype, upcasted_na)\u001b[0m\n\u001b[0;32m   5873\u001b[0m             \u001b[1;32mfor\u001b[0m \u001b[0max\u001b[0m\u001b[1;33m,\u001b[0m \u001b[0mindexer\u001b[0m \u001b[1;32min\u001b[0m \u001b[0mself\u001b[0m\u001b[1;33m.\u001b[0m\u001b[0mindexers\u001b[0m\u001b[1;33m.\u001b[0m\u001b[0mitems\u001b[0m\u001b[1;33m(\u001b[0m\u001b[1;33m)\u001b[0m\u001b[1;33m:\u001b[0m\u001b[1;33m\u001b[0m\u001b[0m\n\u001b[0;32m   5874\u001b[0m                 values = algos.take_nd(values, indexer, axis=ax,\n\u001b[1;32m-> 5875\u001b[1;33m                                        fill_value=fill_value)\n\u001b[0m\u001b[0;32m   5876\u001b[0m \u001b[1;33m\u001b[0m\u001b[0m\n\u001b[0;32m   5877\u001b[0m         \u001b[1;32mreturn\u001b[0m \u001b[0mvalues\u001b[0m\u001b[1;33m\u001b[0m\u001b[0m\n",
      "\u001b[1;32m~\\Anaconda3\\lib\\site-packages\\pandas\\core\\algorithms.py\u001b[0m in \u001b[0;36mtake_nd\u001b[1;34m(arr, indexer, axis, out, fill_value, mask_info, allow_fill)\u001b[0m\n\u001b[0;32m   1653\u001b[0m             \u001b[0mout\u001b[0m \u001b[1;33m=\u001b[0m \u001b[0mnp\u001b[0m\u001b[1;33m.\u001b[0m\u001b[0mempty\u001b[0m\u001b[1;33m(\u001b[0m\u001b[0mout_shape\u001b[0m\u001b[1;33m,\u001b[0m \u001b[0mdtype\u001b[0m\u001b[1;33m=\u001b[0m\u001b[0mdtype\u001b[0m\u001b[1;33m,\u001b[0m \u001b[0morder\u001b[0m\u001b[1;33m=\u001b[0m\u001b[1;34m'F'\u001b[0m\u001b[1;33m)\u001b[0m\u001b[1;33m\u001b[0m\u001b[0m\n\u001b[0;32m   1654\u001b[0m         \u001b[1;32melse\u001b[0m\u001b[1;33m:\u001b[0m\u001b[1;33m\u001b[0m\u001b[0m\n\u001b[1;32m-> 1655\u001b[1;33m             \u001b[0mout\u001b[0m \u001b[1;33m=\u001b[0m \u001b[0mnp\u001b[0m\u001b[1;33m.\u001b[0m\u001b[0mempty\u001b[0m\u001b[1;33m(\u001b[0m\u001b[0mout_shape\u001b[0m\u001b[1;33m,\u001b[0m \u001b[0mdtype\u001b[0m\u001b[1;33m=\u001b[0m\u001b[0mdtype\u001b[0m\u001b[1;33m)\u001b[0m\u001b[1;33m\u001b[0m\u001b[0m\n\u001b[0m\u001b[0;32m   1656\u001b[0m \u001b[1;33m\u001b[0m\u001b[0m\n\u001b[0;32m   1657\u001b[0m     func = _get_take_nd_function(arr.ndim, arr.dtype, out.dtype, axis=axis,\n",
      "\u001b[1;31mMemoryError\u001b[0m: "
     ]
    }
   ],
   "source": [
    "#concatenate the list of datasets in dft list into DF dataframe\n",
    "DF=pd.concat(dft)\n",
    "DF=DF.reset_index(drop=True)\n",
    "sns.distplot(DF[\"durations\"])  "
   ]
  },
  {
   "cell_type": "code",
   "execution_count": null,
   "metadata": {},
   "outputs": [],
   "source": [
    "zone=pd.read_csv(\"taxi_zone_lookup.csv\")\n",
    "dfz=zone[['LocationID','Borough']]    \n",
    "\n",
    "for d in dft:\n",
    "    d.rename(columns={'PULocationID':'LocationID'},inplace=True)\n",
    "dj=[]\n",
    "for d in dft:\n",
    "    #each dataframe in dft list is joined with the zone dataset \n",
    "    dj.append(dfz.join(d.set_index('LocationID'), on='LocationID'))    \n",
    "dj1=[]\n",
    "for d in dj:\n",
    "    #for each dataframe in dj the index is reset and the previous index is dropped\n",
    "    d=d.reset_index(drop=True)\n",
    "    dj1.append(d[[\"Borough\",\"LocationID\",\"durations\"]])\n",
    "dj1=pd.concat(dj1)\n",
    "dj1=dj1.reset_index(drop=True)\n",
    "#take the unique values of borough and convert it to list\n",
    "subset=dj1[\"Borough\"].unique().tolist()\n",
    "#the range is fom 0 to 6 because last one (7) is unknown\n",
    "subset=subset[0:6]  "
   ]
  },
  {
   "cell_type": "code",
   "execution_count": null,
   "metadata": {},
   "outputs": [],
   "source": [
    "#in subset we have all boroughs \n",
    "for s in subset:\n",
    "    l = dj1[dj1['Borough'] == s]\n",
    "    l=l.dropna()\n",
    "    # Draw the density plot\n",
    "    sns.distplot(l['durations'], hist = False, kde = True,\n",
    "                 kde_kws = {'linewidth': 3},\n",
    "                 label = s)\n",
    "    \n",
    "# Plot formatting\n",
    "plt.legend(prop={'size': 16}, title = 'Duration')\n",
    "plt.title('Density Plot with Multiple Borough')\n",
    "plt.xlabel('Duration (second)')\n",
    "plt.ylabel('Density')"
   ]
  },
  {
   "cell_type": "markdown",
   "metadata": {},
   "source": [
    "# RQ4 What is the most common way of payments? \n",
    "#### Discover the way payments are executed in each borough and visualize the number of payments for any possible means. Then run the Chi-squared test to see whether the method of payment is correlated to the borough. Then, comment the results."
   ]
  },
  {
   "cell_type": "markdown",
   "metadata": {},
   "source": [
    "    "
   ]
  },
  {
   "cell_type": "markdown",
   "metadata": {},
   "source": [
    "    "
   ]
  },
  {
   "cell_type": "markdown",
   "metadata": {},
   "source": [
    "   "
   ]
  },
  {
   "cell_type": "markdown",
   "metadata": {},
   "source": [
    "   "
   ]
  },
  {
   "cell_type": "markdown",
   "metadata": {},
   "source": [
    "#### In order to answer to this question, initially we plotted the most used payment method for each Borough using the same methodology applied in the previous points"
   ]
  },
  {
   "cell_type": "code",
   "execution_count": 4,
   "metadata": {
    "scrolled": true
   },
   "outputs": [
    {
     "data": {
      "text/plain": [
       "Text(0.5,1,'payment type for every Borough')"
      ]
     },
     "execution_count": 4,
     "metadata": {},
     "output_type": "execute_result"
    },
    {
     "data": {
      "image/png": "[encoded data removed]",
      "text/plain": [
       "<matplotlib.figure.Figure at 0x2afeb7486d8>"
      ]
     },
     "metadata": {},
     "output_type": "display_data"
    }
   ],
   "source": [
    "zones = pd.read_csv(\"taxi_zone_lookup.csv\")\n",
    "#list of month\n",
    "months = 'January February March April May June'.split()\n",
    "#creation of a DataFrame\n",
    "df_total = pd.DataFrame([])\n",
    "#plot specifications\n",
    "fig, axes = plt.subplots(1,1,figsize=(15,15))\n",
    "for i in range(1,7):\n",
    "    string = \"Filtered\"+str(i)+\".csv\"\n",
    "    #import dataset\n",
    "    df = pd.read_csv(string)\n",
    "    #select the columns useful for carrying out the analysis \n",
    "    df = df[[\"DOLocationID\",\"payment_type\",\"monthS\"]]\n",
    "    #merge df with the zone.csv and take only Borough,payment_type and month\n",
    "    df = pd.merge(df,zones[['LocationID','Borough']], left_on=['DOLocationID'], right_on=['LocationID'])[['Borough','payment_type','monthS']]\n",
    "    #add to the  df_total dataframe\n",
    "    df_total = df_total.append(df,ignore_index=True)\n",
    "    #free memory\n",
    "    del df\n",
    "#created a new column called df_total['month'] in order to assign the name to each month; to do this the lambda function is applied\n",
    "df_total['month'] = df_total['monthS'].apply(lambda x : months[x-1])\n",
    "sns.set_style(\"whitegrid\")\n",
    "fg = sns.countplot(x='Borough', hue='payment_type', data=df_total,palette='hls')\n",
    "fg.set_title('payment type for every Borough')"
   ]
  },
  {
   "cell_type": "markdown",
   "metadata": {},
   "source": [
    "#### The plot show us that the most common way of payment is credit card(payment type 1) ,this situation is the same in every borough. Another thing that shows us the graph is that the type of payment most used is the one most commonly used in Manhattan, maybe because Manhattan is the commercial zone of Newyork."
   ]
  },
  {
   "cell_type": "markdown",
   "metadata": {},
   "source": [
    "    "
   ]
  },
  {
   "cell_type": "markdown",
   "metadata": {},
   "source": [
    "    "
   ]
  },
  {
   "cell_type": "markdown",
   "metadata": {},
   "source": [
    "#### After seeing that the type of payment most used is the credit card and that this type of payment is numerically greater in Manhattan, let's see if method of payment is correlated to the borough with Chi squared test. First we take all the payment type for every Borough"
   ]
  },
  {
   "cell_type": "code",
   "execution_count": 5,
   "metadata": {},
   "outputs": [],
   "source": [
    "manhattan_value = df_total.loc[df_total['Borough'] == 'Manhattan']['payment_type']\n",
    "Bronx_value = df_total.loc[df_total['Borough'] == 'Bronx']['payment_type']\n",
    "Brooklyn_value = df_total.loc[df_total['Borough'] == 'Brooklyn']['payment_type']\n",
    "EWR_value = df_total.loc[df_total['Borough'] == 'EWR']['payment_type']\n",
    "Queens_value = df_total.loc[df_total['Borough'] == 'Queens']['payment_type']\n",
    "State_Island_value = df_total.loc[df_total['Borough'] == 'Staten Island']['payment_type']"
   ]
  },
  {
   "cell_type": "markdown",
   "metadata": {},
   "source": [
    "#### After this we use value_counts() to take a count of the number of payments for each type for every Borought, we add them to an array and then we created a DataFrame from array"
   ]
  },
  {
   "cell_type": "code",
   "execution_count": 7,
   "metadata": {
    "scrolled": true
   },
   "outputs": [
    {
     "data": {
      "text/html": [
       "<div>\n",
       "<style scoped>\n",
       "    .dataframe tbody tr th:only-of-type {\n",
       "        vertical-align: middle;\n",
       "    }\n",
       "\n",
       "    .dataframe tbody tr th {\n",
       "        vertical-align: top;\n",
       "    }\n",
       "\n",
       "    .dataframe thead th {\n",
       "        text-align: right;\n",
       "    }\n",
       "</style>\n",
       "<table border=\"1\" class=\"dataframe\">\n",
       "  <thead>\n",
       "    <tr style=\"text-align: right;\">\n",
       "      <th></th>\n",
       "      <th>0</th>\n",
       "      <th>1</th>\n",
       "      <th>2</th>\n",
       "      <th>3</th>\n",
       "      <th>4</th>\n",
       "      <th>5</th>\n",
       "    </tr>\n",
       "  </thead>\n",
       "  <tbody>\n",
       "    <tr>\n",
       "      <th>0</th>\n",
       "      <td>33227442</td>\n",
       "      <td>161935</td>\n",
       "      <td>1659526</td>\n",
       "      <td>76238</td>\n",
       "      <td>1601156</td>\n",
       "      <td>7237</td>\n",
       "    </tr>\n",
       "    <tr>\n",
       "      <th>1</th>\n",
       "      <td>13797530</td>\n",
       "      <td>165783</td>\n",
       "      <td>583785</td>\n",
       "      <td>18782</td>\n",
       "      <td>845321</td>\n",
       "      <td>3573</td>\n",
       "    </tr>\n",
       "    <tr>\n",
       "      <th>2</th>\n",
       "      <td>170505</td>\n",
       "      <td>4272</td>\n",
       "      <td>13555</td>\n",
       "      <td>674</td>\n",
       "      <td>21172</td>\n",
       "      <td>126</td>\n",
       "    </tr>\n",
       "    <tr>\n",
       "      <th>3</th>\n",
       "      <td>49880</td>\n",
       "      <td>1429</td>\n",
       "      <td>4124</td>\n",
       "      <td>174</td>\n",
       "      <td>5761</td>\n",
       "      <td>37</td>\n",
       "    </tr>\n",
       "  </tbody>\n",
       "</table>\n",
       "</div>"
      ],
      "text/plain": [
       "          0       1        2      3        4     5\n",
       "0  33227442  161935  1659526  76238  1601156  7237\n",
       "1  13797530  165783   583785  18782   845321  3573\n",
       "2    170505    4272    13555    674    21172   126\n",
       "3     49880    1429     4124    174     5761    37"
      ]
     },
     "execution_count": 7,
     "metadata": {},
     "output_type": "execute_result"
    }
   ],
   "source": [
    "chi_test=np.array([manhattan_value.value_counts().sort_index(axis=0),Bronx_value.value_counts().sort_index(axis=0),Brooklyn_value.value_counts().sort_index(axis=0),EWR_value.value_counts().sort_index(axis=0),Queens_value.value_counts().sort_index(axis=0),State_Island_value.value_counts().sort_index(axis=0)]).T\n",
    "chi_test_2=pd.DataFrame(chi_test)\n",
    "chi_test_2"
   ]
  },
  {
   "cell_type": "markdown",
   "metadata": {},
   "source": [
    "#### We are interested in knowing if there is a correlation between Borough and payment type, in order to do this we have used the Chi squared test. Before start we need to state our null hypothesis $H0$: 'There is no statistically significant relationship between Borough and payment type'. To determine if we accept ore reject the null hypothesis we need to compute P-value. We use library scipy to complete this task."
   ]
  },
  {
   "cell_type": "code",
   "execution_count": 21,
   "metadata": {},
   "outputs": [
    {
     "name": "stdout",
     "output_type": "stream",
     "text": [
      "===Chi2 Stat===\n",
      "189106.93237467718\n",
      "\n",
      "\n",
      "===Degrees of Freedom===\n",
      "15\n",
      "\n",
      "\n",
      "===P-Value===\n",
      "0.0\n",
      "\n",
      "\n",
      "===Contingency Table===\n",
      "[[3.32885465e+07 2.36328148e+05 1.58992168e+06 6.95248498e+04\n",
      "  1.79870403e+06 7.84383278e+03]\n",
      " [1.41363309e+07 1.00359230e+05 6.75176941e+05 2.95244576e+04\n",
      "  7.63838555e+05 3.33096597e+03]\n",
      " [2.47426450e+05 1.75657519e+03 1.18175385e+04 5.16762929e+02\n",
      "  1.33693717e+04 5.83014853e+01]\n",
      " [6.74772412e+04 4.79046794e+02 3.22283609e+03 1.40929706e+02\n",
      "  3.64604642e+03 1.58997689e+01]]\n"
     ]
    }
   ],
   "source": [
    "chi2_stat, p_val, dof, ex = stats.chi2_contingency(chi_test_2)\n",
    "print(\"===Chi2 Stat===\")\n",
    "print(chi2_stat)\n",
    "print(\"\\n\")\n",
    "print(\"===Degrees of Freedom===\")\n",
    "print(dof)\n",
    "print(\"\\n\")\n",
    "print(\"===P-Value===\")\n",
    "print(p_val)\n",
    "print(\"\\n\")\n",
    "print(\"===Contingency Table===\")\n",
    "print(ex)"
   ]
  },
  {
   "cell_type": "markdown",
   "metadata": {},
   "source": [
    "#### The results from Chi square test show us that P-value is equal to 0,so we can reject the null hypothesys, the column are not independent and we have a great correlation between borough and payment type."
   ]
  },
  {
   "cell_type": "markdown",
   "metadata": {},
   "source": [
    "# RQ5 Does a long distance correlate with the duration of the trip on average?\n",
    "#### Make a plot that show the dependence between distance and duration of the trip. Then compute the Pearson Coefficient, is it significant? Comment the results you obtain."
   ]
  },
  {
   "cell_type": "markdown",
   "metadata": {},
   "source": [
    "    "
   ]
  },
  {
   "cell_type": "markdown",
   "metadata": {},
   "source": [
    "     "
   ]
  },
  {
   "cell_type": "markdown",
   "metadata": {},
   "source": [
    "     "
   ]
  },
  {
   "cell_type": "markdown",
   "metadata": {},
   "source": [
    "    "
   ]
  },
  {
   "cell_type": "markdown",
   "metadata": {},
   "source": [
    "#### We have choose to filtered the distance; after using .describe() on dataset in order to see the mean of  trip distance, we have choosen to remove all distance minors of 2."
   ]
  },
  {
   "cell_type": "code",
   "execution_count": 2,
   "metadata": {},
   "outputs": [],
   "source": [
    "c = pd.DataFrame([])\n",
    "for month in range(6):\n",
    "    string = \"yellow_tripdata_2018-0\"+str(month+1)+\"_new.csv\"\n",
    "    df = pd.read_csv(string,usecols=['tpep_pickup_datetime','tpep_dropoff_datetime','trip_distance'])\n",
    "    #take long distances\n",
    "    df = df[df['trip_distance']>2]  \n",
    "    df.dropna(inplace=True)\n",
    "    df['tpep_dropoff_datetime'] = pd.to_datetime(df['tpep_dropoff_datetime'])\n",
    "    df['tpep_pickup_datetime'] = pd.to_datetime(df['tpep_pickup_datetime'])\n",
    "    #compute the duration of the trips\n",
    "    df['trip_duration'] = (df[\"tpep_dropoff_datetime\"] - df[\"tpep_pickup_datetime\"])\n",
    "    #convert the durtion to minute\n",
    "    df['trip_duration'] = pd.to_timedelta(df['trip_duration']).apply(lambda x:x.seconds/60)\n",
    "    #append to df_total DataFrame\n",
    "    df_total = df_total.append(df[['trip_distance','trip_duration']],ignore_index=True)\n",
    "    del df"
   ]
  },
  {
   "cell_type": "code",
   "execution_count": 5,
   "metadata": {},
   "outputs": [
    {
     "data": {
      "image/png": "[encoded data removed]",
      "text/plain": [
       "<matplotlib.figure.Figure at 0x21f5d633048>"
      ]
     },
     "metadata": {},
     "output_type": "display_data"
    }
   ],
   "source": [
    "#filtered strange values on max trip duration and max trip distance\n",
    "df1 = df_total[(df_total['trip_duration'] <= 100) & (df_total['trip_distance'] <= 40)]\n",
    "#plot data and a linear regression model fit\n",
    "ax = sns.regplot(x=\"trip_distance\", y=\"trip_duration\", data=df1.sample(5000))"
   ]
  },
  {
   "cell_type": "markdown",
   "metadata": {},
   "source": [
    "#### Now we compute the pearson coefficient which describe the linear correlation between two variables; it has a value between +1 and -1. A value of 1 implies that a linear equation describe the correlation between 2 variable perfectly where Y increase as X increase, a value of 0 implies that there is no linear correlation between the variables and -1 describe a situation where Y decrease and X increase."
   ]
  },
  {
   "cell_type": "code",
   "execution_count": 6,
   "metadata": {
    "scrolled": false
   },
   "outputs": [
    {
     "name": "stdout",
     "output_type": "stream",
     "text": [
      "               trip_distance  trip_duration\n",
      "trip_distance       1.000000       0.721409\n",
      "trip_duration       0.721409       1.000000\n"
     ]
    }
   ],
   "source": [
    "#compute pearson coefficient\n",
    "correlation = df1.corr(method='pearson')\n",
    "print(correlation)"
   ]
  },
  {
   "cell_type": "markdown",
   "metadata": {},
   "source": [
    "#### The result show us that we have and high values of pearson coefficient, so we have a great correlation between long distance a duration of trip."
   ]
  },
  {
   "cell_type": "markdown",
   "metadata": {},
   "source": [
    "# CRQ1: Does the fare for mile change across NY's borough? \n",
    "## #We want to discover whether the expenses of a user that enjoys Taxis in one zone is different from those that uses it in another one.\n",
    "#### 1)Considering the fare amount:\n",
    "#### -Compute the price per mile equation for each trip.\n",
    "#### -Run the mean and the standard deviation of the new variable for each borough. Then plot the distribution. What do you see?\n",
    "#### -Run the t-test among all the possible pairs of distribution of different boroughs.\n",
    "#### -Can you say that statistically significant differences, on the averages, hold among zones? In other words, are Taxis trip in some boroughs, on average, more expensive than others?\n",
    "#### 2)The price per mile might depend on traffic the Taxi finds on its way. So we try to mitigate this effect:\n",
    "#### -Likely, the duration of the trip says something about the city's congestion, especially if combined with the distances. It might be a good idea to weight the price for mile using the T time equation needed to complete the trip. Thus, instead of P equation, you can useP'=P/T equation, where T equation is the time needed to complete the trip.\n",
    "#### -Run the mean and the standard deviation of the new variable for each borough. Then plot the distribution. What do you see?\n",
    "#### -Run the t-test among all the possible pairs of new distribution of different boroughs.\n",
    "#### -Can you say that statistically significant differences, on the averages, hold among zones? In other words, are Taxis trip in some boroughs, on average, more expensive than others?\n",
    "#### -3)Compare the results obtained for the price per mile and the weighted price for mile. What do you think about that?"
   ]
  },
  {
   "cell_type": "code",
   "execution_count": null,
   "metadata": {},
   "outputs": [],
   "source": [
    "dft=[]\n",
    "for i in range(1,7):\n",
    "    df=pd.read_csv(\"C:/Users/Atefeh/Desktop/ADM2/Filtered\"+str(i)+\".csv\",usecols=['fare_amount','trip_distance','tpep_dropoff_datetime','tpep_pickup_datetime','PULocationID','total_amount'])\n",
    "    df[\"Pricem\"]=df[\"fare_amount\"]/df[\"trip_distance\"]\n",
    "    df['start-time'] = pd.to_datetime(df['tpep_pickup_datetime'])\n",
    "    df['End-time'] = pd.to_datetime(df['tpep_dropoff_datetime'])\n",
    "    df[\"durationm\"]=(df[\"End-time\"]-df[\"start-time\"])/pd.Timedelta('1 minute')\n",
    "    df[\"Pricem/m\"]=df[\"Pricem\"]/df[\"durationm\"]\n",
    "    df=df.loc[(df.durationm>20) & (df.fare_amount>0) & (df.trip_distance>0.1) & (df.total_amount>0.8) & (df.PULocationID!=264) & (df.PULocationID!=265)]\n",
    "    df=df.reset_index(drop=True)\n",
    "    dft.append(df[[\"Pricem\",\"PULocationID\",\"Pricem/m\"]])\n",
    "    del df"
   ]
  },
  {
   "cell_type": "code",
   "execution_count": null,
   "metadata": {},
   "outputs": [],
   "source": [
    "dft=pd.concat(dft)\n",
    "dft=dft.reset_index(drop=True)\n",
    "d=dft.loc[dft.Pricem<10]"
   ]
  },
  {
   "cell_type": "code",
   "execution_count": null,
   "metadata": {},
   "outputs": [],
   "source": [
    "sns.distplot(d['Pricem'],kde=True,bins=15,hist_kws=dict(edgecolor=\"k\", linewidth=2),axlabel=\"NY\")"
   ]
  },
  {
   "cell_type": "code",
   "execution_count": null,
   "metadata": {},
   "outputs": [],
   "source": [
    "zone=pd.read_csv(\"taxi_zone_lookup.csv\")\n",
    "dfz=zone[['LocationID','Borough']]\n",
    "d.rename(columns={'PULocationID':'LocationID'},inplace=True)\n",
    "dfz=dfz.join(d.set_index('LocationID'), on='LocationID')\n",
    "dfz=dfz.reset_index(drop=True)"
   ]
  },
  {
   "cell_type": "code",
   "execution_count": null,
   "metadata": {},
   "outputs": [],
   "source": [
    "Boroughs = (dfz[\"Borough\"].unique().tolist())[0:6]\n",
    "dm=pd.DataFrame(columns=['mean','std'],index=Boroughs)"
   ]
  },
  {
   "cell_type": "code",
   "execution_count": null,
   "metadata": {},
   "outputs": [],
   "source": [
    "import matplotlib.pyplot as plt\n",
    "i=0\n",
    "Boroughs = (dfz[\"Borough\"].unique().tolist())[0:6]\n",
    "fig, axes = plt.subplots(6,1,figsize=(30,30))\n",
    "for l in Boroughs:\n",
    "    a=dfz.loc[dfz.Borough==l]\n",
    "    a=a.dropna()\n",
    "    m=a[\"Pricem\"].mean()\n",
    "    s=a[\"Pricem\"].std()\n",
    "    dm.loc[l,\"mean\"]=m\n",
    "    dm.loc[l,\"std\"]=s\n",
    "    #ax_curr = axes[np.where(Boroughs == l)[0][0]]\n",
    "    sns.distplot(a['Pricem'],kde=True,bins=20,color='red',hist_kws=dict(edgecolor=\"k\", linewidth=2),ax=axes[i],axlabel=l)\n",
    "    #sns.distplot(a['Pricem'],kde=True,bins=15,hist_kws=dict(edgecolor=\"k\", linewidth=2,alpha=0.5),ax=ax_curr,label='Overall New York')\n",
    "    #axes.legend()\n",
    "    sns.despine()\n",
    "    i+=1\n",
    "#print(dm)"
   ]
  },
  {
   "cell_type": "code",
   "execution_count": null,
   "metadata": {},
   "outputs": [],
   "source": [
    "dm"
   ]
  },
  {
   "cell_type": "code",
   "execution_count": null,
   "metadata": {},
   "outputs": [],
   "source": [
    "from scipy import stats\n",
    "boroughs=dfz[\"Borough\"].unique().tolist()[0:6]\n",
    "Boroughs1=boroughs\n",
    "idx = pd.MultiIndex.from_product([boroughs,\n",
    "                                  ['t-value', 'p-value', 'H0 hypothesis']])\n",
    "col = boroughs\n",
    "dt = pd.DataFrame('-', idx, col)\n",
    "for i in boroughs:\n",
    "    a=dfz.loc[dfz.Borough==i][\"Pricem\"]\n",
    "    a=a.dropna()\n",
    "    for j in Boroughs1:\n",
    "            b=dfz.loc[dfz.Borough==j][\"Pricem\"]\n",
    "            b=b.dropna()\n",
    "            t2, p2 = stats.ttest_ind(a,b)\n",
    "            dt.loc[(i,\"t-value\"),j]=t2\n",
    "            dt.loc[(i,\"p-value\"),j]=p2\n",
    "            if(p2>0.05):\n",
    "                dt.loc[(i,\"H0 hypothesis\"),j]='Fail to Reject H0'\n",
    "            else:\n",
    "                dt.loc[(i,\"H0 hypothesis\"),j]='Reject H0'"
   ]
  },
  {
   "cell_type": "code",
   "execution_count": null,
   "metadata": {},
   "outputs": [],
   "source": [
    "dt"
   ]
  },
  {
   "cell_type": "code",
   "execution_count": null,
   "metadata": {},
   "outputs": [],
   "source": [
    "sns.distplot(d['Pricem/m'],kde=True,bins=15,hist_kws=dict(edgecolor=\"k\", linewidth=2),axlabel=\"NY\")"
   ]
  },
  {
   "cell_type": "code",
   "execution_count": null,
   "metadata": {},
   "outputs": [],
   "source": [
    "Boroughs = (dfz[\"Borough\"].unique().tolist())[0:6]\n",
    "dn=pd.DataFrame(columns=['mean','std'],index=Boroughs)"
   ]
  },
  {
   "cell_type": "code",
   "execution_count": null,
   "metadata": {},
   "outputs": [],
   "source": [
    "import matplotlib.pyplot as plt\n",
    "i=0\n",
    "Boroughs = (dfz[\"Borough\"].unique().tolist())[0:6]\n",
    "fig, axes = plt.subplots(6,1,figsize=(30,30))\n",
    "for l in Boroughs:\n",
    "    a=dfz.loc[dfz.Borough==l]\n",
    "    a=a.dropna()\n",
    "    m=a[\"Pricem/m\"].mean()\n",
    "    s=a[\"Pricem/m\"].std()\n",
    "    dn.loc[l,\"mean\"]=m\n",
    "    dn.loc[l,\"std\"]=s\n",
    "    #ax_curr = axes[np.where(Boroughs == l)[0][0]]\n",
    "    sns.distplot(a['Pricem/m'],kde=True,bins=20,color='red',hist_kws=dict(edgecolor=\"k\", linewidth=2),ax=axes[i],axlabel=l)\n",
    "    #sns.distplot(a['Pricem'],kde=True,bins=15,hist_kws=dict(edgecolor=\"k\", linewidth=2,alpha=0.5),ax=ax_curr,label='Overall New York')\n",
    "    #axes.legend()\n",
    "    sns.despine()\n",
    "    i+=1"
   ]
  },
  {
   "cell_type": "code",
   "execution_count": null,
   "metadata": {},
   "outputs": [],
   "source": [
    "idx = pd.MultiIndex.from_product([boroughs,\n",
    "                                  ['t-value', 'p-value', 'H0 hypothesis']])\n",
    "col = boroughs\n",
    "dtt = pd.DataFrame('-', idx, col)\n",
    "for i in boroughs:\n",
    "    print(i)\n",
    "    a=dfz.loc[dfz.Borough==i][\"Pricem/m\"]\n",
    "    a=a.dropna()\n",
    "    for j in Boroughs1:\n",
    "            b=dfz.loc[dfz.Borough==j][\"Pricem/m\"]\n",
    "            b=b.dropna()\n",
    "            t2, p2 = stats.ttest_ind(a,b)\n",
    "            dtt.loc[(i,\"t-value\"),j]=t2\n",
    "            dtt.loc[(i,\"p-value\"),j]=p2\n",
    "            if(p2>0.05):\n",
    "                dtt.loc[(i,\"H0 hypothesis\"),j]='Fail to Reject H0'\n",
    "            else:\n",
    "                dtt.loc[(i,\"H0 hypothesis\"),j]='Reject H0'"
   ]
  },
  {
   "cell_type": "code",
   "execution_count": null,
   "metadata": {},
   "outputs": [],
   "source": [
    "dtt"
   ]
  },
  {
   "cell_type": "markdown",
   "metadata": {},
   "source": [
    "# CRQ2: Visualize Taxis movements! \n",
    "#### NYC is divided in many Taxis zones. For each yellow cab trip we know the zone the Taxi pick up and drop off the users. Let's visualize, on a chropleth map, the number of trips that starts in each zone. Than, do another map to count the races that end up in the single zone. Comment your discoveries"
   ]
  },
  {
   "cell_type": "markdown",
   "metadata": {},
   "source": [
    "      "
   ]
  },
  {
   "cell_type": "markdown",
   "metadata": {},
   "source": [
    "    "
   ]
  },
  {
   "cell_type": "markdown",
   "metadata": {},
   "source": [
    "    "
   ]
  },
  {
   "cell_type": "markdown",
   "metadata": {},
   "source": [
    "    "
   ]
  },
  {
   "cell_type": "markdown",
   "metadata": {},
   "source": [
    "#### In order to show the zone with most pick up and drop off we start to create again a new dataframe where we  put PULocationID and DOLocationID"
   ]
  },
  {
   "cell_type": "code",
   "execution_count": 39,
   "metadata": {},
   "outputs": [],
   "source": [
    "zones = pd.read_csv(\"taxi_zone_lookup.csv\")\n",
    "value_to_choropleth = pd.DataFrame([])\n",
    "for i in range(6):\n",
    "    string = \"Filtered\"+str(i+1)+\".csv\"\n",
    "    df = pd.read_csv(string,usecols=[\"PULocationID\",\"DOLocationID\"])\n",
    "    df.dropna(inplace=True)\n",
    "    value_to_choropleth=value_to_choropleth.append(df,ignore_index=True)\n",
    "    del df"
   ]
  },
  {
   "cell_type": "markdown",
   "metadata": {},
   "source": [
    "## Number of trips that starts in each zone"
   ]
  },
  {
   "cell_type": "code",
   "execution_count": 40,
   "metadata": {},
   "outputs": [],
   "source": [
    "#merge the DataFrame value_to_choropleth with zone.csv\n",
    "value_to_choropleth_start = pd.merge(value_to_choropleth,zones, left_on=['PULocationID'], right_on=['LocationID'])[['Zone','PULocationID']]\n",
    "#used groupby and count in order to have a dataframe with zone and the count of trips started in every zone\n",
    "test1=value_to_choropleth_start.groupby(['PULocationID'],as_index=False).count()\n",
    "test1.columns=['Zone','Counter']\n"
   ]
  },
  {
   "cell_type": "code",
   "execution_count": 9,
   "metadata": {},
   "outputs": [],
   "source": [
    "#initialize the map\n",
    "map_1 = folium.Map(location=[40.767937,-73.982155 ],tiles='OpenStreetMap',\n",
    " zoom_start=12)"
   ]
  },
  {
   "cell_type": "code",
   "execution_count": 12,
   "metadata": {},
   "outputs": [],
   "source": [
    "#loaad the json with the coordinate\n",
    "with open('taxi_zones.json') as f:\n",
    "    data = json.load(f)"
   ]
  },
  {
   "cell_type": "code",
   "execution_count": 14,
   "metadata": {},
   "outputs": [],
   "source": [
    "# .choropleth function of folium is used to see the choropleth map\n",
    "map_1.choropleth(\n",
    "    geo_data='taxi_zones.json',\n",
    "    data=test1,\n",
    "    columns=['LocationID','Counter'],\n",
    "    key_on='feature.properties.LocationID',\n",
    "    fill_color='YlOrRd',\n",
    "    legend_name='Taxi Counter',\n",
    "    fill_opacity=0.7,\n",
    "    line_opacity=0.2,\n",
    "    threshold_scale = [20,200,2000,20000,200000,2000000]\n",
    "    \n",
    ")\n",
    "map_1.save('GeoJSON_New_york_Start.html')"
   ]
  },
  {
   "cell_type": "markdown",
   "metadata": {},
   "source": [
    "#### we have used the same approach for the zone where the taxi end the service"
   ]
  },
  {
   "cell_type": "markdown",
   "metadata": {},
   "source": [
    "## Number of trips that end in each zone"
   ]
  },
  {
   "cell_type": "code",
   "execution_count": 15,
   "metadata": {},
   "outputs": [],
   "source": [
    "value_to_choropleth_end = pd.merge(value_to_choropleth,zones, left_on=['DOLocationID'], right_on=['LocationID'])[['Zone','DOLocationID']]\n",
    "test2=value_to_choropleth_end.groupby(['PULocationI'],as_index=False).count()\n",
    "test2.columns=['Zone','Counter']\n"
   ]
  },
  {
   "cell_type": "code",
   "execution_count": 16,
   "metadata": {},
   "outputs": [],
   "source": [
    "map_1.choropleth(\n",
    "    geo_data='taxi_zones.json',\n",
    "    data=test2,\n",
    "    columns=['LocationID','Counter'],\n",
    "    key_on='feature.properties.LocationID',\n",
    "    fill_color='YlOrRd',\n",
    "    legend_name='Taxi Counter',\n",
    "    fill_opacity=0.7,\n",
    "    line_opacity=0.2,\n",
    "    threshold_scale = [20,200,2000,20000,200000,2000000]\n",
    "    \n",
    ")\n",
    "map_1.save('GeoJSON_New_york_end.html')"
   ]
  }
 ],
 "metadata": {
  "kernelspec": {
   "display_name": "Python 3",
   "language": "python",
   "name": "python3"
  },
  "language_info": {
   "codemirror_mode": {
    "name": "ipython",
    "version": 3
   },
   "file_extension": ".py",
   "mimetype": "text/x-python",
   "name": "python",
   "nbconvert_exporter": "python",
   "pygments_lexer": "ipython3",
   "version": "3.6.4"
  }
 },
 "nbformat": 4,
 "nbformat_minor": 2
}
